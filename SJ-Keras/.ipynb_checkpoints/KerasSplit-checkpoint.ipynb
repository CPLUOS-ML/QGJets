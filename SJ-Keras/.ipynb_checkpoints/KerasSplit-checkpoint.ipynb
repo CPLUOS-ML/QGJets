{
 "cells": [
  {
   "cell_type": "code",
   "execution_count": 1,
   "metadata": {
    "autoscroll": false,
    "ein.tags": "worksheet-0",
    "slideshow": {
     "slide_type": "-"
    }
   },
   "outputs": [
    {
     "name": "stderr",
     "output_type": "stream",
     "text": [
      "Using TensorFlow backend.\n"
     ]
    }
   ],
   "source": [
    "import keras\n",
    "from keras.models import Sequential\n",
    "from keras.layers import Dense, Conv2D, Flatten, MaxPooling2D, Dropout\n",
    "from keras.datasets import mnist\n",
    "import numpy as np"
   ]
  },
  {
   "cell_type": "code",
   "execution_count": 2,
   "metadata": {
    "autoscroll": false,
    "ein.tags": "worksheet-0",
    "slideshow": {
     "slide_type": "-"
    }
   },
   "outputs": [
    {
     "data": {
      "text/plain": [
       "'2.0.7'"
      ]
     },
     "execution_count": 2,
     "metadata": {},
     "output_type": "execute_result"
    }
   ],
   "source": [
    "keras.__version__"
   ]
  },
  {
   "cell_type": "code",
   "execution_count": 3,
   "metadata": {
    "autoscroll": false,
    "ein.tags": "worksheet-0",
    "slideshow": {
     "slide_type": "-"
    }
   },
   "outputs": [],
   "source": [
    "mtrain, mtest = mnist.load_data()\n",
    "xtrain, ytrain = mtrain\n",
    "xtest, ytest = mtest\n",
    "\n",
    "xtrain = xtrain.reshape((len(xtrain),28,28,1))\n",
    "xtest = xtest.reshape((len(xtest),28,28,1))"
   ]
  },
  {
   "cell_type": "code",
   "execution_count": 4,
   "metadata": {
    "autoscroll": false,
    "ein.tags": "worksheet-0",
    "slideshow": {
     "slide_type": "-"
    }
   },
   "outputs": [],
   "source": [
    "ytrain[:5]\n",
    "\n",
    "nb_classes = 10\n",
    "\n",
    "targets = ytrain.reshape(-1)\n",
    "ytrainHot = np.eye(nb_classes)[targets]\n",
    "\n",
    "targets = ytest.reshape(-1)\n",
    "ytestHot = np.eye(nb_classes)[targets]"
   ]
  },
  {
   "cell_type": "code",
   "execution_count": 5,
   "metadata": {
    "autoscroll": false,
    "ein.tags": "worksheet-0",
    "slideshow": {
     "slide_type": "-"
    }
   },
   "outputs": [
    {
     "data": {
      "text/plain": [
       "(array([5, 0, 4, 1, 9], dtype=uint8),\n",
       " array([[ 0.,  0.,  0.,  0.,  0.,  1.,  0.,  0.,  0.,  0.],\n",
       "        [ 1.,  0.,  0.,  0.,  0.,  0.,  0.,  0.,  0.,  0.],\n",
       "        [ 0.,  0.,  0.,  0.,  1.,  0.,  0.,  0.,  0.,  0.],\n",
       "        [ 0.,  1.,  0.,  0.,  0.,  0.,  0.,  0.,  0.,  0.],\n",
       "        [ 0.,  0.,  0.,  0.,  0.,  0.,  0.,  0.,  0.,  1.]]))"
      ]
     },
     "execution_count": 5,
     "metadata": {},
     "output_type": "execute_result"
    }
   ],
   "source": [
    "ytrain[:5], ytrainHot[:5]"
   ]
  },
  {
   "cell_type": "code",
   "execution_count": 6,
   "metadata": {
    "autoscroll": false,
    "ein.tags": "worksheet-0",
    "slideshow": {
     "slide_type": "-"
    }
   },
   "outputs": [],
   "source": [
    "model0 = Sequential()\n",
    "model0.add(Conv2D(32, (3,3), activation='relu', input_shape=(28,28, 1)))\n",
    "model0.add(MaxPooling2D((2,2)))\n",
    "model0.add(Dropout(0.2))\n",
    "model0.add(Conv2D(32, (3,3), activation='relu'))\n",
    "model0.add(MaxPooling2D((2,2)))\n",
    "model0.add(Dropout(0.2))\n",
    "model0.add(Conv2D(32, (3,3), activation='relu'))\n",
    "model0.add(MaxPooling2D((2,2)))\n",
    "model0.add(Dropout(0.2))\n",
    "model0.add(Flatten())\n",
    "model0.add(Dense(128, activation='relu'))\n",
    "model0.add(Dropout(0.2))\n",
    "\n",
    "# model0.add(Flatten(input_shape=(28,28, 1)))\n",
    "model0.add(Dense(128, activation='relu'))\n",
    "model0.add(Dropout(0.2))\n",
    "\n",
    "model = Sequential()\n",
    "model.add(model0)\n",
    "model.add(Dense(10, activation='softmax'))\n",
    "model.compile(loss='categorical_crossentropy', optimizer='rmsprop', metrics=['accuracy'])"
   ]
  },
  {
   "cell_type": "code",
   "execution_count": 99,
   "metadata": {
    "autoscroll": false,
    "ein.tags": "worksheet-0",
    "slideshow": {
     "slide_type": "-"
    }
   },
   "outputs": [
    {
     "name": "stdout",
     "output_type": "stream",
     "text": [
      "Train on 60000 samples, validate on 10000 samples\n",
      "Epoch 1/3\n",
      "60000/60000 [==============================] - 42s - loss: 0.4997 - acc: 0.8403 - val_loss: 0.1221 - val_acc: 0.9639\n",
      "Epoch 2/3\n",
      "60000/60000 [==============================] - 47s - loss: 0.2104 - acc: 0.9388 - val_loss: 0.0907 - val_acc: 0.9738\n",
      "Epoch 3/3\n",
      "60000/60000 [==============================] - 44s - loss: 0.1763 - acc: 0.9506 - val_loss: 0.0812 - val_acc: 0.9774\n"
     ]
    },
    {
     "data": {
      "text/plain": [
       "<keras.callbacks.History at 0x12557e6d0>"
      ]
     },
     "execution_count": 99,
     "metadata": {},
     "output_type": "execute_result"
    }
   ],
   "source": [
    "model.fit(xtrain/255., ytrainHot, validation_data=(xtest/255., ytestHot), epochs=3)"
   ]
  },
  {
   "cell_type": "code",
   "execution_count": 7,
   "metadata": {
    "autoscroll": false,
    "ein.tags": "worksheet-0",
    "slideshow": {
     "slide_type": "-"
    }
   },
   "outputs": [],
   "source": [
    "model1 = Sequential()\n",
    "model1.add(Flatten(input_shape=(28,28, 1)))\n",
    "model1.add(Dense(1024, activation='relu', kernel_initializer='normal'))\n",
    "# model1.add(Dense(256, activation='relu', kernel_initializer='normal'))\n",
    "# model1.add(Dropout(0.2))\n",
    "\n",
    "model_ = Sequential()\n",
    "model_.add(model1)\n",
    "model_.add(Dense(10, activation='softmax'))\n",
    "model_.compile(loss='categorical_crossentropy', optimizer='adam', metrics=['accuracy'])"
   ]
  },
  {
   "cell_type": "code",
   "execution_count": 101,
   "metadata": {
    "autoscroll": false,
    "ein.tags": "worksheet-0",
    "slideshow": {
     "slide_type": "-"
    }
   },
   "outputs": [
    {
     "name": "stdout",
     "output_type": "stream",
     "text": [
      "Train on 60000 samples, validate on 10000 samples\n",
      "Epoch 1/5\n",
      "60000/60000 [==============================] - 8s - loss: 0.2644 - acc: 0.9255 - val_loss: 0.1242 - val_acc: 0.9620\n",
      "Epoch 2/5\n",
      "60000/60000 [==============================] - 8s - loss: 0.1024 - acc: 0.9707 - val_loss: 0.0873 - val_acc: 0.9752\n",
      "Epoch 3/5\n",
      "60000/60000 [==============================] - 9s - loss: 0.0650 - acc: 0.9815 - val_loss: 0.0750 - val_acc: 0.9763\n",
      "Epoch 4/5\n",
      "60000/60000 [==============================] - 8s - loss: 0.0438 - acc: 0.9868 - val_loss: 0.0658 - val_acc: 0.9778\n",
      "Epoch 5/5\n",
      "60000/60000 [==============================] - 7s - loss: 0.0320 - acc: 0.9910 - val_loss: 0.0605 - val_acc: 0.9807\n"
     ]
    },
    {
     "data": {
      "text/plain": [
       "<keras.callbacks.History at 0x1334c3690>"
      ]
     },
     "execution_count": 101,
     "metadata": {},
     "output_type": "execute_result"
    }
   ],
   "source": [
    "model_.fit(xtrain/255., ytrainHot, validation_data=(xtest/255., ytestHot), epochs=5, batch_size=200)"
   ]
  },
  {
   "cell_type": "code",
   "execution_count": 8,
   "metadata": {
    "autoscroll": false,
    "ein.tags": "worksheet-0",
    "slideshow": {
     "slide_type": "-"
    }
   },
   "outputs": [],
   "source": [
    "input = keras.layers.Input(shape=(28,28,1))\n",
    "x = keras.layers.concatenate([model0(input), model1(input)])\n",
    "x = Dense(128, activation='relu')(x)\n",
    "output = Dense(10, activation='softmax')(x)\n",
    "\n",
    "# Here, you could also create 2 input layers and pass them into the inputs list instead of this \"split\"\n",
    "model_split = keras.models.Model(inputs=[input], outputs=[output])"
   ]
  },
  {
   "cell_type": "code",
   "execution_count": 9,
   "metadata": {
    "autoscroll": false,
    "ein.tags": "worksheet-0",
    "slideshow": {
     "slide_type": "-"
    }
   },
   "outputs": [],
   "source": [
    "model_split.compile(loss='categorical_crossentropy', optimizer='adam', metrics=['accuracy'])"
   ]
  },
  {
   "cell_type": "code",
   "execution_count": 104,
   "metadata": {
    "autoscroll": false,
    "ein.tags": "worksheet-0",
    "slideshow": {
     "slide_type": "-"
    }
   },
   "outputs": [
    {
     "name": "stdout",
     "output_type": "stream",
     "text": [
      "Train on 60000 samples, validate on 10000 samples\n",
      "Epoch 1/5\n",
      "60000/60000 [==============================] - 47s - loss: 0.0862 - acc: 0.9753 - val_loss: 0.0474 - val_acc: 0.9839\n",
      "Epoch 2/5\n",
      "60000/60000 [==============================] - 46s - loss: 0.0307 - acc: 0.9901 - val_loss: 0.0414 - val_acc: 0.9874\n",
      "Epoch 3/5\n",
      "60000/60000 [==============================] - 46s - loss: 0.0220 - acc: 0.9930 - val_loss: 0.0387 - val_acc: 0.9879\n",
      "Epoch 4/5\n",
      "60000/60000 [==============================] - 51s - loss: 0.0172 - acc: 0.9942 - val_loss: 0.0407 - val_acc: 0.9875\n",
      "Epoch 5/5\n",
      "60000/60000 [==============================] - 52s - loss: 0.0144 - acc: 0.9953 - val_loss: 0.0487 - val_acc: 0.9866\n"
     ]
    },
    {
     "data": {
      "text/plain": [
       "<keras.callbacks.History at 0x1378d06d0>"
      ]
     },
     "execution_count": 104,
     "metadata": {},
     "output_type": "execute_result"
    }
   ],
   "source": [
    "model_split.fit(xtrain/255., ytrainHot, validation_data=(xtest/255., ytestHot), epochs=5, batch_size=200)"
   ]
  },
  {
   "cell_type": "code",
   "execution_count": 10,
   "metadata": {
    "autoscroll": false,
    "ein.tags": "worksheet-0",
    "slideshow": {
     "slide_type": "-"
    }
   },
   "outputs": [
    {
     "data": {
      "text/plain": [
       "(array([[-0.00579327,  0.05720434,  0.00918984,  0.06749316,  0.01684046,\n",
       "          0.07182202,  0.08744402, -0.01872103,  0.07531051,  0.02046612,\n",
       "          0.11264308,  0.00221437, -0.01288055, -0.11776939,  0.09533909,\n",
       "         -0.09854412,  0.12272494,  0.13043974,  0.02878696,  0.13272621,\n",
       "         -0.01966815,  0.03164841, -0.04850472, -0.09115346, -0.01655932,\n",
       "         -0.06807893, -0.06263614,  0.1254497 , -0.11620085, -0.12707032,\n",
       "         -0.11783605,  0.08018634]], dtype=float32),\n",
       " array([[-0.00579327,  0.05720434,  0.00918984,  0.06749316,  0.01684046,\n",
       "          0.07182202,  0.08744402, -0.01872103,  0.07531051,  0.02046612,\n",
       "          0.11264308,  0.00221437, -0.01288055, -0.11776939,  0.09533909,\n",
       "         -0.09854412,  0.12272494,  0.13043974,  0.02878696,  0.13272621,\n",
       "         -0.01966815,  0.03164841, -0.04850472, -0.09115346, -0.01655932,\n",
       "         -0.06807893, -0.06263614,  0.1254497 , -0.11620085, -0.12707032,\n",
       "         -0.11783605,  0.08018634]], dtype=float32))"
      ]
     },
     "execution_count": 10,
     "metadata": {},
     "output_type": "execute_result"
    }
   ],
   "source": [
    "(model_split.layers[1].layers[0].get_weights()[0][0][0],\n",
    " model0.layers[0].get_weights()[0][0][0])"
   ]
  },
  {
   "cell_type": "code",
   "execution_count": 11,
   "metadata": {
    "autoscroll": false,
    "ein.tags": "worksheet-0",
    "slideshow": {
     "slide_type": "-"
    }
   },
   "outputs": [],
   "source": [
    "from keras.utils import plot_model\n",
    "plot_model(model_split, to_file='model_split.png')  "
   ]
  }
 ],
 "metadata": {
  "kernelspec": {
   "display_name": "Python 2",
   "language": "python",
   "name": "python2"
  },
  "language_info": {
   "codemirror_mode": {
    "name": "ipython",
    "version": 2
   },
   "file_extension": ".py",
   "mimetype": "text/x-python",
   "name": "python",
   "nbconvert_exporter": "python",
   "pygments_lexer": "ipython2",
   "version": "2.7.5"
  },
  "name": "KerasSplit.ipynb"
 },
 "nbformat": 4,
 "nbformat_minor": 2
}
