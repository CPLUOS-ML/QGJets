{
 "cells": [
  {
   "cell_type": "code",
   "execution_count": 4,
   "metadata": {
    "collapsed": true
   },
   "outputs": [],
   "source": [
    "from __future__ import absolute_import, division, print_function"
   ]
  },
  {
   "cell_type": "code",
   "execution_count": 1,
   "metadata": {},
   "outputs": [
    {
     "name": "stderr",
     "output_type": "stream",
     "text": [
      "Using TensorFlow backend.\n"
     ]
    }
   ],
   "source": [
    "import keras"
   ]
  },
  {
   "cell_type": "code",
   "execution_count": 5,
   "metadata": {
    "collapsed": true
   },
   "outputs": [],
   "source": [
    "from keras.utils import multi_gpu_model\n",
    "from keras.models import load_model"
   ]
  },
  {
   "cell_type": "code",
   "execution_count": 11,
   "metadata": {
    "collapsed": true
   },
   "outputs": [],
   "source": [
    "from pipeline import make_data_loader\n",
    "from custom_losses import binary_cross_entropy_with_logits\n",
    "from custom_metrics import accuracy_with_logits\n",
    "from meters import Meter, ROCMeter\n",
    "from nn import OutputHistogram\n",
    "from utils import get_log_dir\n",
    "from models import add_an_sigmoid_layer"
   ]
  },
  {
   "cell_type": "code",
   "execution_count": 13,
   "metadata": {},
   "outputs": [
    {
     "name": "stderr",
     "output_type": "stream",
     "text": [
      "2017-11-07 01:05:02.488952: I tensorflow/core/common_runtime/gpu/gpu_device.cc:1045] Creating TensorFlow device (/gpu:0) -> (device: 0, name: GeForce GTX 1080, pci bus id: 0000:01:00.0)\n",
      "2017-11-07 01:05:02.489001: I tensorflow/core/common_runtime/gpu/gpu_device.cc:1045] Creating TensorFlow device (/gpu:1) -> (device: 1, name: GeForce GTX 1080, pci bus id: 0000:02:00.0)\n"
     ]
    }
   ],
   "source": [
    "model_ = load_model(\"./logs/keras-2017-11-06_01-08-28/saved_models/model_1000.h5\")\n",
    "model_sigmoid = add_an_sigmoid_layer(model_)\n",
    "model = multi_gpu_model(model_sigmoid, 2)"
   ]
  },
  {
   "cell_type": "code",
   "execution_count": 9,
   "metadata": {
    "collapsed": true
   },
   "outputs": [],
   "source": [
    "train_gen = make_data_loader(\n",
    "    \"../data/FastSim/dijet/training_dijet_466554_prep.root\",\n",
    "    batch_size=500, cyclic=False)\n",
    "test_dijet_gen = make_data_loader(\n",
    "    \"../data/FastSim/dijet/test_dijet_after_dijet_186880_prep.root\",\n",
    "    batch_size=500, cyclic=False)\n",
    "test_zjet_gen = make_data_loader(\n",
    "    \"../data/FastSim/dijet/test_zjet_after_dijet_176773_prep.root\",\n",
    "    batch_size=500, cyclic=False)"
   ]
  },
  {
   "cell_type": "code",
   "execution_count": 10,
   "metadata": {},
   "outputs": [],
   "source": [
    "roc_dijet = ROCMeter(dpath=\"./landfill/\", step=1000, title=\"ROC curve (dijet/dijet)\")"
   ]
  },
  {
   "cell_type": "code",
   "execution_count": 26,
   "metadata": {
    "collapsed": true
   },
   "outputs": [],
   "source": [
    "roc_dijet = ROCMeter(\n",
    "    dpath=\"./landfill/\",\n",
    "    step=1000,\n",
    "    title=\"Dijet / Dijet\"\n",
    ")\n",
    "\n",
    "for x, y in test_dijet_gen:\n",
    "    preds = model.predict_on_batch(x)\n",
    "    roc_dijet.append(labels=y, preds=preds)\n",
    "else:\n",
    "    roc_dijet.finish()"
   ]
  },
  {
   "cell_type": "code",
   "execution_count": null,
   "metadata": {
    "collapsed": true
   },
   "outputs": [],
   "source": [
    "roc_zjet = ROCMeter(dpath=\"./landfill/\", step=1000, title=\"Dijet / Z+jet\")\n",
    "for x, y in test_zjet_gen:\n",
    "    preds = model.predict_on_batch(x)\n",
    "    roc_zjet.append(labels=y, preds=preds)\n",
    "else:\n",
    "    roc_zjet.finish()"
   ]
  },
  {
   "cell_type": "code",
   "execution_count": 27,
   "metadata": {},
   "outputs": [
    {
     "name": "stdout",
     "output_type": "stream",
     "text": [
      "./landfill/out.root:/train_dijet\n",
      "./landfill/out.root:/train_dijet\n",
      "./landfill/out.root:/test_dijet\n",
      "./landfill/out.root:/test_dijet\n",
      "./landfill/out.root:/test_zjet\n",
      "./landfill/out.root:/test_zjet\n"
     ]
    }
   ],
   "source": [
    "out_hists = OutputHistogram(\n",
    "    path=\"./landfill/out.root\",\n",
    "    dataset_list=[\"train_dijet\",\n",
    "                  \"test_dijet\",\n",
    "                  \"test_zjet\"]\n",
    ")"
   ]
  },
  {
   "cell_type": "code",
   "execution_count": 28,
   "metadata": {
    "collapsed": true
   },
   "outputs": [],
   "source": [
    "out_hists.cd(\"train_dijet\")\n",
    "for x, y in train_gen:\n",
    "    preds = model.predict_on_batch(x)\n",
    "    out_hists.fill(labels=y, preds=preds)"
   ]
  },
  {
   "cell_type": "code",
   "execution_count": 29,
   "metadata": {
    "collapsed": true
   },
   "outputs": [],
   "source": [
    "out_hists.cd(\"test_dijet\")\n",
    "for x, y in test_dijet_gen:\n",
    "    preds = model.predict_on_batch(x)\n",
    "    out_hists.fill(labels=y, preds=preds)"
   ]
  },
  {
   "cell_type": "code",
   "execution_count": 30,
   "metadata": {
    "collapsed": true
   },
   "outputs": [],
   "source": [
    "out_hists.cd(\"test_zjet\")\n",
    "for x, y in test_zjet_gen:\n",
    "    preds = model.predict_on_batch(x)\n",
    "    out_hists.fill(labels=y, preds=preds)"
   ]
  },
  {
   "cell_type": "code",
   "execution_count": 31,
   "metadata": {
    "collapsed": true
   },
   "outputs": [],
   "source": [
    "out_hists.save()"
   ]
  },
  {
   "cell_type": "code",
   "execution_count": null,
   "metadata": {
    "collapsed": true
   },
   "outputs": [],
   "source": []
  }
 ],
 "metadata": {
  "kernelspec": {
   "display_name": "Python 2",
   "language": "python",
   "name": "python2"
  },
  "language_info": {
   "codemirror_mode": {
    "name": "ipython",
    "version": 2
   },
   "file_extension": ".py",
   "mimetype": "text/x-python",
   "name": "python",
   "nbconvert_exporter": "python",
   "pygments_lexer": "ipython2",
   "version": "2.7.5"
  }
 },
 "nbformat": 4,
 "nbformat_minor": 2
}
